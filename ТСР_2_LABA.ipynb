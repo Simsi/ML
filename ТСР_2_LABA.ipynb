{
  "cells": [
    {
      "cell_type": "code",
      "execution_count": 1,
      "metadata": {
        "id": "KiW8qEBTJMOn"
      },
      "outputs": [],
      "source": [
        "import pandas as pd\n",
        "import numpy as np\n",
        "import matplotlib.pyplot as plt\n",
        "import seaborn as sns\n",
        "from sklearn.model_selection import train_test_split\n",
        "from typing import *\n",
        "from sklearn.metrics import accuracy_score\n",
        "from sklearn.naive_bayes import BernoulliNB\n",
        "%matplotlib inline"
      ]
    },
    {
      "cell_type": "code",
      "execution_count": 2,
      "metadata": {
        "colab": {
          "base_uri": "https://localhost:8080/"
        },
        "id": "_Jv2hgSYJdPH",
        "outputId": "c6ff743d-bca5-4b59-9ad1-cc58967367fa"
      },
      "outputs": [
        {
          "output_type": "execute_result",
          "data": {
            "text/plain": [
              "(8124, 23)"
            ]
          },
          "metadata": {},
          "execution_count": 2
        }
      ],
      "source": [
        "url_data = 'https://archive.ics.uci.edu/ml/machine-learning-databases/mushroom/agaricus-lepiota.data'\n",
        "column_names = ['class',\n",
        "                'cap-shape',\n",
        "                'cap-surface',\n",
        "                'cap-color',\n",
        "                'bruises?',\n",
        "                'odor',\n",
        "                'gill-attachment',\n",
        "                'gill-spacing',\n",
        "                'gill-size',\n",
        "                'gill-color',\n",
        "                'stalk-shape',\n",
        "                'stalk-root',\n",
        "                'stalk-surface-above-ring',\n",
        "                'stalk-surface-below-ring',\n",
        "                'stalk-color-above-ring',\n",
        "                'stalk-color-below-ring',\n",
        "                'veil-type',\n",
        "                'veil-color',\n",
        "                'ring-number',\n",
        "                'ring-type',\n",
        "                'spore-print-color',\n",
        "                'population',\n",
        "                'habitat']\n",
        "\n",
        "mushrooms = pd.read_csv(url_data, header=None, names=column_names)\n",
        "# mushrooms = mushrooms.replace({'?': np.NaN})\n",
        "mushrooms.shape"
      ]
    },
    {
      "cell_type": "code",
      "execution_count": 3,
      "metadata": {
        "colab": {
          "base_uri": "https://localhost:8080/"
        },
        "id": "hgDSLKSuJu1A",
        "outputId": "1711ae5a-e53d-4f82-eb47-311c1f2d7bdc"
      },
      "outputs": [
        {
          "output_type": "stream",
          "name": "stdout",
          "text": [
            "class p ['p' 'e']\n",
            "cap-shape x ['x' 'b' 's' 'f' 'k' 'c']\n",
            "cap-surface s ['s' 'y' 'f' 'g']\n",
            "cap-color n ['n' 'y' 'w' 'g' 'e' 'p' 'b' 'u' 'c' 'r']\n",
            "bruises? t ['t' 'f']\n",
            "odor p ['p' 'a' 'l' 'n' 'f' 'c' 'y' 's' 'm']\n",
            "gill-attachment f ['f' 'a']\n",
            "gill-spacing c ['c' 'w']\n",
            "gill-size n ['n' 'b']\n",
            "gill-color k ['k' 'n' 'g' 'p' 'w' 'h' 'u' 'e' 'b' 'r' 'y' 'o']\n",
            "stalk-shape e ['e' 't']\n",
            "stalk-root e ['e' 'c' 'b' 'r' '?']\n",
            "stalk-surface-above-ring s ['s' 'f' 'k' 'y']\n",
            "stalk-surface-below-ring s ['s' 'f' 'y' 'k']\n",
            "stalk-color-above-ring w ['w' 'g' 'p' 'n' 'b' 'e' 'o' 'c' 'y']\n",
            "stalk-color-below-ring w ['w' 'p' 'g' 'b' 'n' 'e' 'y' 'o' 'c']\n",
            "veil-type p ['p']\n",
            "veil-color w ['w' 'n' 'o' 'y']\n",
            "ring-number o ['o' 't' 'n']\n",
            "ring-type p ['p' 'e' 'l' 'f' 'n']\n",
            "spore-print-color k ['k' 'n' 'u' 'h' 'w' 'r' 'o' 'y' 'b']\n",
            "population s ['s' 'n' 'a' 'v' 'y' 'c']\n",
            "habitat u ['u' 'g' 'm' 'd' 'p' 'w' 'l']\n"
          ]
        }
      ],
      "source": [
        "\n",
        "l = len(mushrooms.columns)\n",
        "for i in range(l):\n",
        "  print(mushrooms.columns[i], end=' ')\n",
        "  print(mushrooms[mushrooms.columns[i]][0], end=\" \")\n",
        "  print(mushrooms[mushrooms.columns[i]].unique())\n",
        "\n"
      ]
    },
    {
      "cell_type": "markdown",
      "metadata": {
        "id": "ue7hnMEzDTyh"
      },
      "source": [
        "## Задание №1\n",
        "Загрузить таблицу Mushroom из репозитория UCI (любого источника) в объект\n",
        "DataFrame.\n",
        "Вычислить распределение значений категориальных признаков по классам.\n",
        "Визуализировать распределения. Разбить данные на обучающую и контрольную\n",
        "выборки."
      ]
    },
    {
      "cell_type": "markdown",
      "metadata": {
        "id": "dAi-10kmDiml"
      },
      "source": [
        "### Распределение категориальных признаков по классам"
      ]
    },
    {
      "cell_type": "code",
      "execution_count": 4,
      "metadata": {
        "colab": {
          "base_uri": "https://localhost:8080/"
        },
        "id": "Umj9DWRQTlJ6",
        "outputId": "aaabf96e-bd63-4eb5-b141-087b2d74cf18"
      },
      "outputs": [
        {
          "output_type": "stream",
          "name": "stdout",
          "text": [
            "e    0.517971\n",
            "p    0.482029\n",
            "Name: class, dtype: float64\n",
            "x    0.450025\n",
            "f    0.387986\n",
            "k    0.101920\n",
            "b    0.055638\n",
            "s    0.003939\n",
            "c    0.000492\n",
            "Name: cap-shape, dtype: float64\n",
            "y    0.399311\n",
            "s    0.314623\n",
            "f    0.285574\n",
            "g    0.000492\n",
            "Name: cap-surface, dtype: float64\n",
            "n    0.281142\n",
            "g    0.226489\n",
            "e    0.184638\n",
            "y    0.131955\n",
            "w    0.128016\n",
            "b    0.020679\n",
            "p    0.017725\n",
            "c    0.005416\n",
            "u    0.001969\n",
            "r    0.001969\n",
            "Name: cap-color, dtype: float64\n",
            "f    0.584441\n",
            "t    0.415559\n",
            "Name: bruises?, dtype: float64\n",
            "n    0.434269\n",
            "f    0.265879\n",
            "y    0.070901\n",
            "s    0.070901\n",
            "a    0.049237\n",
            "l    0.049237\n",
            "p    0.031512\n",
            "c    0.023634\n",
            "m    0.004431\n",
            "Name: odor, dtype: float64\n",
            "f    0.974151\n",
            "a    0.025849\n",
            "Name: gill-attachment, dtype: float64\n",
            "c    0.838503\n",
            "w    0.161497\n",
            "Name: gill-spacing, dtype: float64\n",
            "b    0.690793\n",
            "n    0.309207\n",
            "Name: gill-size, dtype: float64\n",
            "b    0.212703\n",
            "p    0.183653\n",
            "w    0.147957\n",
            "n    0.129000\n",
            "g    0.092565\n",
            "h    0.090103\n",
            "u    0.060561\n",
            "k    0.050222\n",
            "e    0.011817\n",
            "y    0.010586\n",
            "o    0.007878\n",
            "r    0.002954\n",
            "Name: gill-color, dtype: float64\n",
            "t    0.567208\n",
            "e    0.432792\n",
            "Name: stalk-shape, dtype: float64\n",
            "b    0.464796\n",
            "?    0.305268\n",
            "e    0.137863\n",
            "c    0.068439\n",
            "r    0.023634\n",
            "Name: stalk-root, dtype: float64\n",
            "s    0.637125\n",
            "k    0.291974\n",
            "f    0.067947\n",
            "y    0.002954\n",
            "Name: stalk-surface-above-ring, dtype: float64\n",
            "s    0.607582\n",
            "k    0.283604\n",
            "f    0.073855\n",
            "y    0.034958\n",
            "Name: stalk-surface-below-ring, dtype: float64\n",
            "w    0.549483\n",
            "p    0.230428\n",
            "g    0.070901\n",
            "n    0.055145\n",
            "b    0.053176\n",
            "o    0.023634\n",
            "e    0.011817\n",
            "c    0.004431\n",
            "y    0.000985\n",
            "Name: stalk-color-above-ring, dtype: float64\n",
            "w    0.539636\n",
            "p    0.230428\n",
            "g    0.070901\n",
            "n    0.063023\n",
            "b    0.053176\n",
            "o    0.023634\n",
            "e    0.011817\n",
            "c    0.004431\n",
            "y    0.002954\n",
            "Name: stalk-color-below-ring, dtype: float64\n",
            "p    1.0\n",
            "Name: veil-type, dtype: float64\n",
            "w    0.975382\n",
            "n    0.011817\n",
            "o    0.011817\n",
            "y    0.000985\n",
            "Name: veil-color, dtype: float64\n",
            "o    0.921713\n",
            "t    0.073855\n",
            "n    0.004431\n",
            "Name: ring-number, dtype: float64\n",
            "p    0.488429\n",
            "e    0.341704\n",
            "l    0.159527\n",
            "f    0.005908\n",
            "n    0.004431\n",
            "Name: ring-type, dtype: float64\n",
            "w    0.293944\n",
            "n    0.242245\n",
            "k    0.230428\n",
            "h    0.200886\n",
            "r    0.008863\n",
            "u    0.005908\n",
            "o    0.005908\n",
            "y    0.005908\n",
            "b    0.005908\n",
            "Name: spore-print-color, dtype: float64\n",
            "v    0.497292\n",
            "y    0.210734\n",
            "s    0.153619\n",
            "n    0.049237\n",
            "a    0.047267\n",
            "c    0.041851\n",
            "Name: population, dtype: float64\n",
            "d    0.387494\n",
            "g    0.264402\n",
            "p    0.140817\n",
            "l    0.102413\n",
            "u    0.045298\n",
            "m    0.035943\n",
            "w    0.023634\n",
            "Name: habitat, dtype: float64\n"
          ]
        }
      ],
      "source": [
        "for col in column_names:\n",
        "    print(mushrooms[col].value_counts(normalize=True))"
      ]
    },
    {
      "cell_type": "markdown",
      "metadata": {
        "id": "YOaDw5WwDzrD"
      },
      "source": [
        "[Текст ссылки](https://)### Визуализация распределений"
      ]
    },
    {
      "cell_type": "code",
      "execution_count": 5,
      "metadata": {
        "colab": {
          "base_uri": "https://localhost:8080/",
          "height": 1000
        },
        "id": "60xSuKq8J6EW",
        "outputId": "0181baaf-7d0c-41cd-d212-6b05150344d2"
      },
      "outputs": [
        {
          "output_type": "stream",
          "name": "stdout",
          "text": [
            "e\n"
          ]
        },
        {
          "output_type": "display_data",
          "data": {
            "text/plain": [
              "<Figure size 1296x1008 with 23 Axes>"
            ],
            "image/png": "[encoded data removed]"
          },
          "metadata": {
            "needs_background": "light"
          }
        },
        {
          "output_type": "stream",
          "name": "stdout",
          "text": [
            "p\n"
          ]
        },
        {
          "output_type": "display_data",
          "data": {
            "text/plain": [
              "<Figure size 1296x1008 with 23 Axes>"
            ],
            "image/png": "[encoded data removed]"
          },
          "metadata": {
            "needs_background": "light"
          }
        }
      ],
      "source": [
        "gb = mushrooms.groupby('class')    \n",
        "for g in [(gb.get_group(x), x) for x in gb.groups]:\n",
        "  print(g[1])\n",
        "  g = g[0]\n",
        "  plt.figure(figsize=(18, 14))\n",
        "  for i, col in enumerate(column_names):\n",
        "    plt.subplot(4, 6, i + 1)\n",
        "    g[col].value_counts().plot(kind='bar')\n",
        "    plt.title(col)\n",
        "  plt.show()"
      ]
    },
    {
      "cell_type": "code",
      "execution_count": 6,
      "metadata": {
        "id": "vUDdxtp4kFBy"
      },
      "outputs": [],
      "source": [
        "mushrooms = mushrooms.drop(columns=['veil-type'])  # удаляем неинформативный признак"
      ]
    },
    {
      "cell_type": "code",
      "execution_count": 7,
      "metadata": {
        "id": "RQtIr9uoVRkx"
      },
      "outputs": [],
      "source": [
        "train, test = train_test_split(mushrooms, test_size=0.25, random_state=42)"
      ]
    },
    {
      "cell_type": "markdown",
      "metadata": {
        "id": "TXYSK5EAEr_Q"
      },
      "source": [
        "## Задание №2\n",
        "Построить решающую функцию по каждой переменной на основе частот. Сравнить\n",
        "точность на обучающей и контрольной выборках. Найти наиболее информативную\n",
        "переменную."
      ]
    },
    {
      "cell_type": "code",
      "execution_count": 8,
      "metadata": {
        "id": "y0k0Lw1PEz8i"
      },
      "outputs": [],
      "source": [
        "class FreqAnalysis():\n",
        "    def __init__(self, feature_name):\n",
        "        self.feature_name = feature_name\n",
        "        self.rule = dict()\n",
        "        self.categories = []\n",
        "    \n",
        "    def fit(self, X, y):\n",
        "        self.categories += X[self.feature_name].unique().tolist()\n",
        "        for cat in self.categories:\n",
        "            self.rule[cat] = y[X[self.feature_name] == cat].value_counts().index.tolist()[0]\n",
        "    def predict(self, X):\n",
        "        return X[self.feature_name].map(self.rule)"
      ]
    },
    {
      "cell_type": "markdown",
      "metadata": {
        "id": "r9bpE2gqlxxX"
      },
      "source": [
        "### Найдем наиболее информативную переменную\n",
        "Оценим значимость всех переменных и выделем наиболее значимую"
      ]
    },
    {
      "cell_type": "code",
      "execution_count": 9,
      "metadata": {
        "colab": {
          "base_uri": "https://localhost:8080/"
        },
        "id": "FYCozsS9bGSX",
        "outputId": "8aa4af1b-dcb4-41ab-8ffd-bdc88cab01f2"
      },
      "outputs": [
        {
          "output_type": "stream",
          "name": "stdout",
          "text": [
            "cap-shape   train: 0.567 test: 0.557\n",
            "cap-surface   train: 0.579 test: 0.584\n",
            "cap-color   train: 0.596 test: 0.592\n",
            "bruises?   train: 0.747 test: 0.734\n",
            "odor   train: 0.985 test: 0.985\n",
            "gill-attachment   train: 0.52 test: 0.512\n",
            "gill-spacing   train: 0.613 test: 0.626\n",
            "gill-size   train: 0.759 test: 0.747\n",
            "gill-color   train: 0.805 test: 0.806\n",
            "stalk-shape   train: 0.555 test: 0.548\n",
            "stalk-root   train: 0.647 test: 0.644\n",
            "stalk-surface-above-ring   train: 0.778 test: 0.763\n",
            "stalk-surface-below-ring   train: 0.769 test: 0.758\n",
            "stalk-color-above-ring   train: 0.717 test: 0.715\n",
            "stalk-color-below-ring   train: 0.716 test: 0.709\n",
            "veil-color   train: 0.521 test: 0.513\n",
            "ring-number   train: 0.537 test: 0.542\n",
            "ring-type   train: 0.774 test: 0.78\n",
            "spore-print-color   train: 0.868 test: 0.869\n",
            "population   train: 0.723 test: 0.719\n",
            "habitat   train: 0.694 test: 0.68\n",
            "\n",
            "\n",
            "Лучший результат на тестовой выборке:\n",
            "odor 0.9852289512555391\n"
          ]
        }
      ],
      "source": [
        "feat_score = np.zeros(mushrooms.shape[1] - 1)\n",
        "\n",
        "short_list = [col for col in train.columns if col != 'class'] \n",
        "\n",
        "best_feature_score = 0.\n",
        "best_feature = None\n",
        "\n",
        "# мы берём каждый признак по отдельности \n",
        "# и на основе частоты для каждого класса\n",
        "# в этом признаке предиктим класс на тесте\n",
        "\n",
        "# Пример: признак cap-surface, значения\n",
        "# ('s','f','y','g')\n",
        "# Находим, какой класс чаще имеет конкретные\n",
        "# значения этого признака:\n",
        "# {'x': 'e', 'f': 'e', 'k': 'p', 'b': 'e', 's': 'e', 'c': 'p'}\n",
        "# значит, если у объекта в этом признаке будет 'x', мы предсказываем класс 'e'\n",
        "\n",
        "for i, col in enumerate(short_list):\n",
        "    clf = FreqAnalysis(col)\n",
        "    clf.fit(train, train['class'])\n",
        "    feat_score[i] = accuracy_score(test['class'], clf.predict(test))\n",
        "    print(col, f\"  train: {accuracy_score(train['class'], clf.predict(train)):.3}\", f\"test: {accuracy_score(test['class'], clf.predict(test)):.3}\")\n",
        "    if feat_score[i] > best_feature_score:\n",
        "        best_feature_score = feat_score[i]\n",
        "        best_feature = col\n",
        "\n",
        "print('\\n\\n', 'Лучший результат на тестовой выборке:', sep='')\n",
        "print(best_feature, best_feature_score)"
      ]
    },
    {
      "cell_type": "markdown",
      "metadata": {
        "id": "BXB59JgfpVR6"
      },
      "source": [
        "## Задание №3\n",
        "Построить «наивный» байесовский классификатор из sklearn. Оценить точность."
      ]
    },
    {
      "cell_type": "markdown",
      "metadata": {
        "id": "TVNED-ggO_TG"
      },
      "source": [
        "One Hot Encoding"
      ]
    },
    {
      "cell_type": "code",
      "execution_count": 10,
      "metadata": {
        "id": "3PWi0KLCKW4w"
      },
      "outputs": [],
      "source": [
        "mushrooms_OHE = pd.get_dummies(mushrooms[short_list])\n",
        "mushrooms_OHE['class'] = mushrooms['class'].map({'e': 0, 'p': 1})\n",
        "\n",
        "train_OHE = mushrooms_OHE.iloc[train.index]\n",
        "test_OHE = mushrooms_OHE.iloc[test.index]"
      ]
    },
    {
      "cell_type": "code",
      "execution_count": 11,
      "metadata": {
        "colab": {
          "base_uri": "https://localhost:8080/"
        },
        "id": "AdN1_jdqvpJG",
        "outputId": "94f7a08a-6cbb-4d7c-e370-040c5684a337"
      },
      "outputs": [
        {
          "output_type": "stream",
          "name": "stdout",
          "text": [
            "Оценка точности «наивного» байесовского классификатора из sklearn\n",
            "0.9369768586903003\n"
          ]
        }
      ],
      "source": [
        "X_train, y_train = train_OHE.drop(columns='class').to_numpy(), train_OHE['class'].to_numpy()\n",
        "X_test, y_test = test_OHE.drop(columns='class').to_numpy(), test_OHE['class'].to_numpy()\n",
        "\n",
        "clf = BernoulliNB(binarize=None)\n",
        "clf.fit(X_train, y_train)\n",
        "print(\"Оценка точности «наивного» байесовского классификатора из sklearn\")\n",
        "print(clf.score(X_test, y_test))"
      ]
    },
    {
      "cell_type": "markdown",
      "metadata": {
        "id": "SrwbEFGcoVvM"
      },
      "source": [
        "## Задание №4\n",
        "Самостоятельно реализовать метод, не используя готовый. Сравнить полученное\n",
        "решение с библиотечным. Добавить регуляризатор в оценки частот."
      ]
    },
    {
      "cell_type": "markdown",
      "source": [
        "![image.png](data:image/png;base64,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)"
      ],
      "metadata": {
        "id": "rgcGpPmhZnfF"
      }
    },
    {
      "cell_type": "markdown",
      "source": [
        "![image.png](data:image/png;base64,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)"
      ],
      "metadata": {
        "id": "s_e5_3JFZqKN"
      }
    },
    {
      "cell_type": "code",
      "execution_count": 12,
      "metadata": {
        "id": "V6L47Ia6xcgD"
      },
      "outputs": [],
      "source": [
        "#Ntic - кол-во объектов, которые принадлежат данной категории для данного класса\n",
        "#Nc - кол-во объектов, которые принадлежат классу по всем категориям\n",
        "#alpha - параметр для избежания деления на 0\n",
        "#ni - кол-во категорий\n",
        "\n",
        "class MyNaiveBayes():\n",
        "    def __init__(self):\n",
        "        self.b0 = 0.\n",
        "        self.b_vec = None\n",
        "    \n",
        "    def fit(self, X, y):\n",
        "        N, M = X.shape\n",
        "        N0 = N - y.sum()\n",
        "        N1 = y.sum()\n",
        "        P0 = N0 / N  # доля 0-й\n",
        "        P1 = N1 / N  # доля 1\n",
        "\n",
        "        self.b0 = np.log(P0 / P1)\n",
        "        self.b_vec = np.zeros(M)\n",
        "        for j in range(M):\n",
        "            p_j = (X[y == 0][:, j].sum() + 1) / (N0 + 2)\n",
        "            q_j = (X[y == 1][:, j].sum() + 1) / (N1 + 2)\n",
        "            self.b0 += np.log((1 - p_j) / (1 - q_j))\n",
        "            self.b_vec[j] = np.log((p_j * (1 - q_j)) / (q_j * (1 - p_j))) \n",
        "\n",
        "    def predict(self, X):\n",
        "        N, M = X.shape\n",
        "        y_pr = np.zeros(N)\n",
        "        for i in range(N):\n",
        "            y_pr[i] = (X[i, :] * self.b_vec).sum() + self.b0\n",
        "            if y_pr[i] >= 0:\n",
        "                y_pr[i] = 0\n",
        "            else:\n",
        "                y_pr[i] = 1\n",
        "        return y_pr\n",
        "    \n",
        "    def score(self, X, y):\n",
        "        if self.b_vec is not None:\n",
        "            return(accuracy_score(y, self.predict(X)))\n",
        "        else:\n",
        "            return 'It isnt fited!'"
      ]
    },
    {
      "cell_type": "code",
      "execution_count": 13,
      "metadata": {
        "colab": {
          "base_uri": "https://localhost:8080/"
        },
        "id": "siCTNPe25TqS",
        "outputId": "6c492c09-de0e-471b-d8d8-ec17f2af8376"
      },
      "outputs": [
        {
          "output_type": "stream",
          "name": "stdout",
          "text": [
            "Оценка точности:\n"
          ]
        },
        {
          "output_type": "execute_result",
          "data": {
            "text/plain": [
              "0.9369768586903003"
            ]
          },
          "metadata": {},
          "execution_count": 13
        }
      ],
      "source": [
        "myBNBclf = MyNaiveBayes()\n",
        "myBNBclf.fit(X_train, y_train)\n",
        "print(\"Оценка точности:\")\n",
        "myBNBclf.score(X_test, y_test)"
      ]
    },
    {
      "cell_type": "code",
      "execution_count": 14,
      "metadata": {
        "colab": {
          "base_uri": "https://localhost:8080/"
        },
        "id": "hNIUtz-H7Cxb",
        "outputId": "149b6114-38d7-45a3-ffc7-ebe2198d25f3"
      },
      "outputs": [
        {
          "output_type": "execute_result",
          "data": {
            "text/plain": [
              "array([ 1.9526813 , -1.46709996, -0.04888478, -1.12584676,  3.14669824,\n",
              "        0.12435629,  0.89179018, -1.17907583, -0.40878209, -0.36506818,\n",
              "       -0.91561792,  0.77230814, -0.49275488,  0.25208942,  0.17073875,\n",
              "       -0.42713   ,  2.40860404,  2.63269801,  0.83424682, -0.72370269,\n",
              "       -2.3416733 ,  2.3416733 ,  5.71572114, -5.14268017, -8.27033512,\n",
              "        5.68572693, -3.49093774,  4.92097235, -5.3417678 , -6.3344533 ,\n",
              "       -6.28013266,  2.14383266, -2.14383266, -2.53241853,  2.53241853,\n",
              "        2.9497991 , -2.9497991 , -7.83541383,  4.28830023, -0.88342851,\n",
              "       -1.07447206,  1.66627391,  2.27180991,  3.7180717 ,  0.19425469,\n",
              "       -2.97597846,  2.20207097,  1.52638318,  0.71582475, -0.42404793,\n",
              "        0.42404793, -1.37088783, -0.06524846,  2.36446825,  1.36048673,\n",
              "        4.9289089 ,  1.11703635, -3.67049861,  2.30143796,  0.32676728,\n",
              "        1.14994875, -3.59842987,  1.89460276,  0.92654168, -5.98786481,\n",
              "       -3.49093774,  4.301527  ,  6.16137744, -3.49257707,  4.92156102,\n",
              "       -1.11965868,  0.87460392, -2.16161653, -5.9981518 , -3.49093774,\n",
              "        4.31458949,  6.1375116 , -2.0913517 ,  4.92156102, -1.14979604,\n",
              "        0.88191629, -2.97597846,  4.28830023,  4.13059944, -2.83972427,\n",
              "       -2.16161653, -3.49093774, -1.57382145,  1.99527341, -0.94290121,\n",
              "        3.56955068, -7.3546701 , -3.49093774,  2.41268073,  3.48635519,\n",
              "       -4.0194553 ,  2.35462908,  2.49184222,  3.59584551, -4.14215532,\n",
              "        3.39578655, -1.68635055,  3.45704872,  5.6932945 ,  1.63396969,\n",
              "        5.71572114,  0.9719604 , -1.91684587,  0.52264272,  0.55130989,\n",
              "        0.74308507, -1.14753159,  1.86849912, -2.34656322, -1.1944008 ,\n",
              "        5.02022421])"
            ]
          },
          "metadata": {},
          "execution_count": 14
        }
      ],
      "source": [
        "myBNBclf.b_vec"
      ]
    },
    {
      "cell_type": "code",
      "execution_count": 15,
      "metadata": {
        "colab": {
          "base_uri": "https://localhost:8080/"
        },
        "id": "RKA25oNNJdbS",
        "outputId": "dffd41ee-33ee-44d7-9d93-c092e860ac96"
      },
      "outputs": [
        {
          "output_type": "execute_result",
          "data": {
            "text/plain": [
              "5.229287336734877"
            ]
          },
          "metadata": {},
          "execution_count": 15
        }
      ],
      "source": [
        "myBNBclf.b0"
      ]
    },
    {
      "cell_type": "markdown",
      "source": [
        "####Задание 5"
      ],
      "metadata": {
        "id": "AYClEldnHMTE"
      }
    },
    {
      "cell_type": "markdown",
      "source": [
        "Применить метод логистической регрессии, использовав в качестве переменных оценки вероятностей, подвергнутые обратному логистическому преобразованию."
      ],
      "metadata": {
        "id": "19q9u0itHPXT"
      }
    },
    {
      "cell_type": "code",
      "source": [
        "df = pd.read_csv('https://archive.ics.uci.edu/ml/machine-learning-databases/mushroom/agaricus-lepiota.data', header=None) \n",
        " \n",
        "cnt = df[0].value_counts() \n",
        "p0 = cnt['p']/cnt.sum() # вероятность класса p \n",
        "z0 = np.log(p0) - np.log(1.0 - p0)  \n",
        "print(p0, z0) \n",
        "cnt\n"
      ],
      "metadata": {
        "colab": {
          "base_uri": "https://localhost:8080/"
        },
        "id": "FLhm15fiVBNF",
        "outputId": "30faa347-6a9a-4f60-d1e2-7a51f50052e8"
      },
      "execution_count": 16,
      "outputs": [
        {
          "output_type": "stream",
          "name": "stdout",
          "text": [
            "0.48202855736090594 -0.07191675076714477\n"
          ]
        },
        {
          "output_type": "execute_result",
          "data": {
            "text/plain": [
              "e    4208\n",
              "p    3916\n",
              "Name: 0, dtype: int64"
            ]
          },
          "metadata": {},
          "execution_count": 16
        }
      ]
    },
    {
      "cell_type": "code",
      "source": [
        "# 1) находим распределение значений категориальных признаков по классам\n",
        "# Пример: признак cap-surface, значения\n",
        "# ('s','f','y','g')\n",
        "# Находим, сколько раз встретилось каждое значение у каждого класса:\n",
        "# p: {'x': 1000, 'f': 200, 'k': 30, 'b': 0, 's': 230, 'c': 2000}\n",
        "# e: {'x': 2320, 'f': 0, 'k': 10, 'b': 0, 's': 120, 'c': 0}\n",
        "# 2) высчитываем вероятности каждого класса по категориальным признакам\n",
        "# 3) высчитываем вероятности для каждого сэмпла\n",
        "# 4) высчитываем вероятности, подвергнутые обратному лог. преобразованию\n",
        "# 5) применяем логистическую регрессию к результату обратного преобразования\n",
        "# 6) определяем значение класса по порогу (threshold)\n",
        "threshold=0.5\n",
        "# 7)  Фиксируем прибыль\n",
        "\n",
        "for col in range(1,23): \n",
        "    res = pd.DataFrame()  \n",
        "    f = df.groupby(col)[0].value_counts().unstack().fillna(0)\n",
        "    f['prob'] = (f['p']+1)/(f['p']+f['e']+2)\n",
        "    res[df.columns[col]] = df[col] \n",
        "    res['prob'] = df[col].map(lambda x: f.at[x,'prob'])  \n",
        "    res['inv_sig'] = np.log(res['prob']) - np.log(1.0 - res['prob']) - z0 \n",
        "    res['sig'] = 1.0/(1.0+np.exp(-(res['inv_sig']+z0)))                  \n",
        "    res['pred'] = res['prob'].map(lambda x: 'e' if x<threshold else 'p')    \n",
        "    print(res)"
      ],
      "metadata": {
        "colab": {
          "base_uri": "https://localhost:8080/"
        },
        "id": "dY8mcSQ3eQyp",
        "outputId": "bc37ccf8-39d1-44a2-ea7b-4fcdfebf2db2"
      },
      "execution_count": 17,
      "outputs": [
        {
          "output_type": "stream",
          "name": "stdout",
          "text": [
            "      1      prob   inv_sig       sig pred\n",
            "0     x  0.467195 -0.059491  0.467195    e\n",
            "1     x  0.467195 -0.059491  0.467195    e\n",
            "2     b  0.107930 -2.040150  0.107930    e\n",
            "3     x  0.467195 -0.059491  0.467195    e\n",
            "4     x  0.467195 -0.059491  0.467195    e\n",
            "...  ..       ...       ...       ...  ...\n",
            "8119  k  0.724096  1.036790  0.724096    p\n",
            "8120  x  0.467195 -0.059491  0.467195    e\n",
            "8121  f  0.493659  0.046551  0.493659    e\n",
            "8122  k  0.724096  1.036790  0.724096    p\n",
            "8123  x  0.467195 -0.059491  0.467195    e\n",
            "\n",
            "[8124 rows x 5 columns]\n",
            "      2      prob   inv_sig       sig pred\n",
            "0     s  0.552385  0.282227  0.552385    p\n",
            "1     s  0.552385  0.282227  0.552385    p\n",
            "2     s  0.552385  0.282227  0.552385    p\n",
            "3     y  0.536352  0.217584  0.536352    p\n",
            "4     s  0.552385  0.282227  0.552385    p\n",
            "...  ..       ...       ...       ...  ...\n",
            "8119  s  0.552385  0.282227  0.552385    p\n",
            "8120  s  0.552385  0.282227  0.552385    p\n",
            "8121  s  0.552385  0.282227  0.552385    p\n",
            "8122  y  0.536352  0.217584  0.536352    p\n",
            "8123  s  0.552385  0.282227  0.552385    p\n",
            "\n",
            "[8124 rows x 5 columns]\n",
            "      3      prob   inv_sig       sig pred\n",
            "0     n  0.446632 -0.142373  0.446632    e\n",
            "1     y  0.626629  0.589701  0.626629    p\n",
            "2     w  0.308061 -0.737281  0.308061    e\n",
            "3     w  0.308061 -0.737281  0.308061    e\n",
            "4     g  0.439197 -0.172507  0.439197    e\n",
            "...  ..       ...       ...       ...  ...\n",
            "8119  n  0.446632 -0.142373  0.446632    e\n",
            "8120  n  0.446632 -0.142373  0.446632    e\n",
            "8121  n  0.446632 -0.142373  0.446632    e\n",
            "8122  n  0.446632 -0.142373  0.446632    e\n",
            "8123  n  0.446632 -0.142373  0.446632    e\n",
            "\n",
            "[8124 rows x 5 columns]\n",
            "      4      prob   inv_sig       sig pred\n",
            "0     t  0.185021 -1.410778  0.185021    e\n",
            "1     t  0.185021 -1.410778  0.185021    e\n",
            "2     t  0.185021 -1.410778  0.185021    e\n",
            "3     t  0.185021 -1.410778  0.185021    e\n",
            "4     f  0.693263  0.887336  0.693263    p\n",
            "...  ..       ...       ...       ...  ...\n",
            "8119  f  0.693263  0.887336  0.693263    p\n",
            "8120  f  0.693263  0.887336  0.693263    p\n",
            "8121  f  0.693263  0.887336  0.693263    p\n",
            "8122  f  0.693263  0.887336  0.693263    p\n",
            "8123  f  0.693263  0.887336  0.693263    p\n",
            "\n",
            "[8124 rows x 5 columns]\n",
            "      5      prob   inv_sig       sig pred\n",
            "0     p  0.996124  5.620993  0.996124    p\n",
            "1     a  0.002488 -5.922045  0.002488    e\n",
            "2     l  0.002488 -5.922045  0.002488    e\n",
            "3     p  0.996124  5.620993  0.996124    p\n",
            "4     n  0.034278 -3.266467  0.034278    e\n",
            "...  ..       ...       ...       ...  ...\n",
            "8119  n  0.034278 -3.266467  0.034278    e\n",
            "8120  n  0.034278 -3.266467  0.034278    e\n",
            "8121  n  0.034278 -3.266467  0.034278    e\n",
            "8122  y  0.998270  6.429759  0.998270    p\n",
            "8123  n  0.034278 -3.266467  0.034278    e\n",
            "\n",
            "[8124 rows x 5 columns]\n",
            "      6      prob   inv_sig       sig pred\n",
            "0     f  0.492547  0.042102  0.492547    e\n",
            "1     f  0.492547  0.042102  0.492547    e\n",
            "2     f  0.492547  0.042102  0.492547    e\n",
            "3     f  0.492547  0.042102  0.492547    e\n",
            "4     f  0.492547  0.042102  0.492547    e\n",
            "...  ..       ...       ...       ...  ...\n",
            "8119  a  0.089623 -2.246334  0.089623    e\n",
            "8120  a  0.089623 -2.246334  0.089623    e\n",
            "8121  a  0.089623 -2.246334  0.089623    e\n",
            "8122  f  0.492547  0.042102  0.492547    e\n",
            "8123  a  0.089623 -2.246334  0.089623    e\n",
            "\n",
            "[8124 rows x 5 columns]\n",
            "      7      prob   inv_sig       sig pred\n",
            "0     c  0.558409  0.306625  0.558409    p\n",
            "1     c  0.558409  0.306625  0.558409    p\n",
            "2     c  0.558409  0.306625  0.558409    p\n",
            "3     c  0.558409  0.306625  0.558409    p\n",
            "4     w  0.085997 -2.291605  0.085997    e\n",
            "...  ..       ...       ...       ...  ...\n",
            "8119  c  0.558409  0.306625  0.558409    p\n",
            "8120  c  0.558409  0.306625  0.558409    p\n",
            "8121  c  0.558409  0.306625  0.558409    p\n",
            "8122  c  0.558409  0.306625  0.558409    p\n",
            "8123  c  0.558409  0.306625  0.558409    p\n",
            "\n",
            "[8124 rows x 5 columns]\n",
            "      8      prob   inv_sig       sig pred\n",
            "0     n  0.885044  2.113002  0.885044    p\n",
            "1     b  0.301568 -0.767928  0.301568    e\n",
            "2     b  0.301568 -0.767928  0.301568    e\n",
            "3     n  0.885044  2.113002  0.885044    p\n",
            "4     b  0.301568 -0.767928  0.301568    e\n",
            "...  ..       ...       ...       ...  ...\n",
            "8119  b  0.301568 -0.767928  0.301568    e\n",
            "8120  b  0.301568 -0.767928  0.301568    e\n",
            "8121  b  0.301568 -0.767928  0.301568    e\n",
            "8122  n  0.885044  2.113002  0.885044    p\n",
            "8123  b  0.301568 -0.767928  0.301568    e\n",
            "\n",
            "[8124 rows x 5 columns]\n",
            "      9      prob   inv_sig       sig pred\n",
            "0     k  0.158537 -1.597240  0.158537    e\n",
            "1     k  0.158537 -1.597240  0.158537    e\n",
            "2     n  0.107619 -2.043379  0.107619    e\n",
            "3     n  0.107619 -2.043379  0.107619    e\n",
            "4     k  0.158537 -1.597240  0.158537    e\n",
            "...  ..       ...       ...       ...  ...\n",
            "8119  y  0.261364 -0.966976  0.261364    e\n",
            "8120  y  0.261364 -0.966976  0.261364    e\n",
            "8121  n  0.107619 -2.043379  0.107619    e\n",
            "8122  b  0.999422  7.527215  0.999422    p\n",
            "8123  y  0.261364 -0.966976  0.261364    e\n",
            "\n",
            "[8124 rows x 5 columns]\n",
            "     10      prob   inv_sig       sig pred\n",
            "0     e  0.540364  0.233724  0.540364    p\n",
            "1     e  0.540364  0.233724  0.540364    p\n",
            "2     e  0.540364  0.233724  0.540364    p\n",
            "3     e  0.540364  0.233724  0.540364    p\n",
            "4     t  0.437527 -0.179287  0.437527    e\n",
            "...  ..       ...       ...       ...  ...\n",
            "8119  e  0.540364  0.233724  0.540364    p\n",
            "8120  e  0.540364  0.233724  0.540364    p\n",
            "8121  e  0.540364  0.233724  0.540364    p\n",
            "8122  t  0.437527 -0.179287  0.437527    e\n",
            "8123  e  0.540364  0.233724  0.540364    p\n",
            "\n",
            "[8124 rows x 5 columns]\n",
            "     11      prob   inv_sig       sig pred\n",
            "0     e  0.229055 -1.141737  0.229055    e\n",
            "1     c  0.080645 -2.361697  0.080645    e\n",
            "2     c  0.080645 -2.361697  0.080645    e\n",
            "3     e  0.229055 -1.141737  0.229055    e\n",
            "4     e  0.229055 -1.141737  0.229055    e\n",
            "...  ..       ...       ...       ...  ...\n",
            "8119  ?  0.709508  0.964915  0.709508    p\n",
            "8120  ?  0.709508  0.964915  0.709508    p\n",
            "8121  ?  0.709508  0.964915  0.709508    p\n",
            "8122  ?  0.709508  0.964915  0.709508    p\n",
            "8123  ?  0.709508  0.964915  0.709508    p\n",
            "\n",
            "[8124 rows x 5 columns]\n",
            "     12      prob   inv_sig       sig pred\n",
            "0     s  0.296833 -0.790509  0.296833    e\n",
            "1     s  0.296833 -0.790509  0.296833    e\n",
            "2     s  0.296833 -0.790509  0.296833    e\n",
            "3     s  0.296833 -0.790509  0.296833    e\n",
            "4     s  0.296833 -0.790509  0.296833    e\n",
            "...  ..       ...       ...       ...  ...\n",
            "8119  s  0.296833 -0.790509  0.296833    e\n",
            "8120  s  0.296833 -0.790509  0.296833    e\n",
            "8121  s  0.296833 -0.790509  0.296833    e\n",
            "8122  s  0.296833 -0.790509  0.296833    e\n",
            "8123  s  0.296833 -0.790509  0.296833    e\n",
            "\n",
            "[8124 rows x 5 columns]\n",
            "     13      prob   inv_sig       sig pred\n",
            "0     s  0.311260 -0.722320  0.311260    e\n",
            "1     s  0.311260 -0.722320  0.311260    e\n",
            "2     s  0.311260 -0.722320  0.311260    e\n",
            "3     s  0.311260 -0.722320  0.311260    e\n",
            "4     s  0.311260 -0.722320  0.311260    e\n",
            "...  ..       ...       ...       ...  ...\n",
            "8119  s  0.311260 -0.722320  0.311260    e\n",
            "8120  s  0.311260 -0.722320  0.311260    e\n",
            "8121  s  0.311260 -0.722320  0.311260    e\n",
            "8122  k  0.937121  2.773509  0.937121    p\n",
            "8123  s  0.311260 -0.722320  0.311260    e\n",
            "\n",
            "[8124 rows x 5 columns]\n",
            "     14      prob   inv_sig       sig pred\n",
            "0     w  0.383565 -0.402528  0.383565    e\n",
            "1     w  0.383565 -0.402528  0.383565    e\n",
            "2     w  0.383565 -0.402528  0.383565    e\n",
            "3     w  0.383565 -0.402528  0.383565    e\n",
            "4     w  0.383565 -0.402528  0.383565    e\n",
            "...  ..       ...       ...       ...  ...\n",
            "8119  o  0.005155 -5.190773  0.005155    e\n",
            "8120  o  0.005155 -5.190773  0.005155    e\n",
            "8121  o  0.005155 -5.190773  0.005155    e\n",
            "8122  w  0.383565 -0.402528  0.383565    e\n",
            "8123  o  0.005155 -5.190773  0.005155    e\n",
            "\n",
            "[8124 rows x 5 columns]\n",
            "     15      prob   inv_sig       sig pred\n",
            "0     w  0.383265 -0.403796  0.383265    e\n",
            "1     w  0.383265 -0.403796  0.383265    e\n",
            "2     w  0.383265 -0.403796  0.383265    e\n",
            "3     w  0.383265 -0.403796  0.383265    e\n",
            "4     w  0.383265 -0.403796  0.383265    e\n",
            "...  ..       ...       ...       ...  ...\n",
            "8119  o  0.005155 -5.190773  0.005155    e\n",
            "8120  o  0.005155 -5.190773  0.005155    e\n",
            "8121  o  0.005155 -5.190773  0.005155    e\n",
            "8122  w  0.383265 -0.403796  0.383265    e\n",
            "8123  o  0.005155 -5.190773  0.005155    e\n",
            "\n",
            "[8124 rows x 5 columns]\n",
            "     16      prob   inv_sig       sig pred\n",
            "0     p  0.482033  0.000018  0.482033    e\n",
            "1     p  0.482033  0.000018  0.482033    e\n",
            "2     p  0.482033  0.000018  0.482033    e\n",
            "3     p  0.482033  0.000018  0.482033    e\n",
            "4     p  0.482033  0.000018  0.482033    e\n",
            "...  ..       ...       ...       ...  ...\n",
            "8119  p  0.482033  0.000018  0.482033    e\n",
            "8120  p  0.482033  0.000018  0.482033    e\n",
            "8121  p  0.482033  0.000018  0.482033    e\n",
            "8122  p  0.482033  0.000018  0.482033    e\n",
            "8123  p  0.482033  0.000018  0.482033    e\n",
            "\n",
            "[8124 rows x 5 columns]\n",
            "     17      prob   inv_sig       sig pred\n",
            "0     w  0.493187  0.044663  0.493187    e\n",
            "1     w  0.493187  0.044663  0.493187    e\n",
            "2     w  0.493187  0.044663  0.493187    e\n",
            "3     w  0.493187  0.044663  0.493187    e\n",
            "4     w  0.493187  0.044663  0.493187    e\n",
            "...  ..       ...       ...       ...  ...\n",
            "8119  o  0.010204 -4.502794  0.010204    e\n",
            "8120  n  0.010204 -4.502794  0.010204    e\n",
            "8121  o  0.010204 -4.502794  0.010204    e\n",
            "8122  w  0.493187  0.044663  0.493187    e\n",
            "8123  o  0.010204 -4.502794  0.010204    e\n",
            "\n",
            "[8124 rows x 5 columns]\n",
            "     18      prob   inv_sig       sig pred\n",
            "0     o  0.508545  0.106099  0.508545    p\n",
            "1     o  0.508545  0.106099  0.508545    p\n",
            "2     o  0.508545  0.106099  0.508545    p\n",
            "3     o  0.508545  0.106099  0.508545    p\n",
            "4     o  0.508545  0.106099  0.508545    p\n",
            "...  ..       ...       ...       ...  ...\n",
            "8119  o  0.508545  0.106099  0.508545    p\n",
            "8120  o  0.508545  0.106099  0.508545    p\n",
            "8121  o  0.508545  0.106099  0.508545    p\n",
            "8122  o  0.508545  0.106099  0.508545    p\n",
            "8123  o  0.508545  0.106099  0.508545    p\n",
            "\n",
            "[8124 rows x 5 columns]\n",
            "     19      prob   inv_sig       sig pred\n",
            "0     p  0.205793 -1.278554  0.205793    e\n",
            "1     p  0.205793 -1.278554  0.205793    e\n",
            "2     p  0.205793 -1.278554  0.205793    e\n",
            "3     p  0.205793 -1.278554  0.205793    e\n",
            "4     e  0.636789  0.633371  0.636789    p\n",
            "...  ..       ...       ...       ...  ...\n",
            "8119  p  0.205793 -1.278554  0.205793    e\n",
            "8120  p  0.205793 -1.278554  0.205793    e\n",
            "8121  p  0.205793 -1.278554  0.205793    e\n",
            "8122  e  0.636789  0.633371  0.636789    p\n",
            "8123  p  0.205793 -1.278554  0.205793    e\n",
            "\n",
            "[8124 rows x 5 columns]\n",
            "     20      prob   inv_sig       sig pred\n",
            "0     k  0.120064 -1.919907  0.120064    e\n",
            "1     n  0.114213 -1.976493  0.114213    e\n",
            "2     n  0.114213 -1.976493  0.114213    e\n",
            "3     k  0.120064 -1.919907  0.120064    e\n",
            "4     n  0.114213 -1.976493  0.114213    e\n",
            "...  ..       ...       ...       ...  ...\n",
            "8119  b  0.020000 -3.819904  0.020000    e\n",
            "8120  b  0.020000 -3.819904  0.020000    e\n",
            "8121  b  0.020000 -3.819904  0.020000    e\n",
            "8122  w  0.758577  1.216813  0.758577    p\n",
            "8123  o  0.020000 -3.819904  0.020000    e\n",
            "\n",
            "[8124 rows x 5 columns]\n",
            "     21      prob   inv_sig       sig pred\n",
            "0     s  0.295200 -0.798344  0.295200    e\n",
            "1     n  0.002488 -5.922045  0.002488    e\n",
            "2     n  0.002488 -5.922045  0.002488    e\n",
            "3     s  0.295200 -0.798344  0.295200    e\n",
            "4     a  0.002591 -5.881327  0.002591    e\n",
            "...  ..       ...       ...       ...  ...\n",
            "8119  c  0.154971 -1.624218  0.154971    e\n",
            "8120  v  0.704849  0.942414  0.704849    p\n",
            "8121  c  0.154971 -1.624218  0.154971    e\n",
            "8122  v  0.704849  0.942414  0.704849    p\n",
            "8123  c  0.154971 -1.624218  0.154971    e\n",
            "\n",
            "[8124 rows x 5 columns]\n",
            "     22      prob   inv_sig       sig pred\n",
            "0     u  0.737838  1.106678  0.737838    p\n",
            "1     g  0.344651 -0.570718  0.344651    e\n",
            "2     m  0.125850 -1.866241  0.125850    e\n",
            "3     u  0.737838  1.106678  0.737838    p\n",
            "4     g  0.344651 -0.570718  0.344651    e\n",
            "...  ..       ...       ...       ...  ...\n",
            "8119  l  0.711031  0.972314  0.711031    p\n",
            "8120  l  0.711031  0.972314  0.711031    p\n",
            "8121  l  0.711031  0.972314  0.711031    p\n",
            "8122  l  0.711031  0.972314  0.711031    p\n",
            "8123  l  0.711031  0.972314  0.711031    p\n",
            "\n",
            "[8124 rows x 5 columns]\n"
          ]
        }
      ]
    },
    {
      "cell_type": "code",
      "source": [],
      "metadata": {
        "id": "DLt7CHL6jGFI"
      },
      "execution_count": 17,
      "outputs": []
    }
  ],
  "metadata": {
    "colab": {
      "collapsed_sections": [],
      "provenance": []
    },
    "kernelspec": {
      "display_name": "Python 3 (ipykernel)",
      "language": "python",
      "name": "python3"
    },
    "language_info": {
      "codemirror_mode": {
        "name": "ipython",
        "version": 3
      },
      "file_extension": ".py",
      "mimetype": "text/x-python",
      "name": "python",
      "nbconvert_exporter": "python",
      "pygments_lexer": "ipython3",
      "version": "3.9.8"
    }
  },
  "nbformat": 4,
  "nbformat_minor": 0
}