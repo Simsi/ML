{
  "cells": [
    {
      "cell_type": "code",
      "execution_count": 23,
      "metadata": {
        "colab": {
          "base_uri": "https://localhost:8080/"
        },
        "id": "5B-MQ1MIhGLA",
        "outputId": "46ed5a0d-2a5d-4b3a-8d5e-9e5ca4f089ca"
      },
      "outputs": [
        {
          "output_type": "stream",
          "name": "stdout",
          "text": [
            "Looking in indexes: https://pypi.org/simple, https://us-python.pkg.dev/colab-wheels/public/simple/\n",
            "Requirement already satisfied: catboost in /usr/local/lib/python3.8/dist-packages (1.1.1)\n",
            "Requirement already satisfied: graphviz in /usr/local/lib/python3.8/dist-packages (from catboost) (0.10.1)\n",
            "Requirement already satisfied: matplotlib in /usr/local/lib/python3.8/dist-packages (from catboost) (3.2.2)\n",
            "Requirement already satisfied: plotly in /usr/local/lib/python3.8/dist-packages (from catboost) (5.5.0)\n",
            "Requirement already satisfied: numpy>=1.16.0 in /usr/local/lib/python3.8/dist-packages (from catboost) (1.21.6)\n",
            "Requirement already satisfied: pandas>=0.24.0 in /usr/local/lib/python3.8/dist-packages (from catboost) (1.3.5)\n",
            "Requirement already satisfied: six in /usr/local/lib/python3.8/dist-packages (from catboost) (1.15.0)\n",
            "Requirement already satisfied: scipy in /usr/local/lib/python3.8/dist-packages (from catboost) (1.7.3)\n",
            "Requirement already satisfied: python-dateutil>=2.7.3 in /usr/local/lib/python3.8/dist-packages (from pandas>=0.24.0->catboost) (2.8.2)\n",
            "Requirement already satisfied: pytz>=2017.3 in /usr/local/lib/python3.8/dist-packages (from pandas>=0.24.0->catboost) (2022.6)\n",
            "Requirement already satisfied: pyparsing!=2.0.4,!=2.1.2,!=2.1.6,>=2.0.1 in /usr/local/lib/python3.8/dist-packages (from matplotlib->catboost) (3.0.9)\n",
            "Requirement already satisfied: cycler>=0.10 in /usr/local/lib/python3.8/dist-packages (from matplotlib->catboost) (0.11.0)\n",
            "Requirement already satisfied: kiwisolver>=1.0.1 in /usr/local/lib/python3.8/dist-packages (from matplotlib->catboost) (1.4.4)\n",
            "Requirement already satisfied: tenacity>=6.2.0 in /usr/local/lib/python3.8/dist-packages (from plotly->catboost) (8.1.0)\n"
          ]
        }
      ],
      "source": [
        "!pip install catboost"
      ]
    },
    {
      "cell_type": "code",
      "execution_count": 24,
      "metadata": {
        "id": "Ag8dn2OLd9Ap"
      },
      "outputs": [],
      "source": [
        "import pandas as pd\n",
        "import matplotlib.pyplot as plt\n",
        "\n",
        "from sklearn import metrics\n",
        "from sklearn.datasets import load_breast_cancer\n",
        "from sklearn.datasets import make_classification\n",
        "from sklearn.model_selection import train_test_split\n",
        "from sklearn.metrics import confusion_matrix # чз матрицу\n",
        "\n",
        "from catboost import CatBoostClassifier, Pool\n"
      ]
    },
    {
      "cell_type": "code",
      "execution_count": 25,
      "metadata": {
        "colab": {
          "base_uri": "https://localhost:8080/"
        },
        "id": "ROoIthTsfUJJ",
        "outputId": "8d4a8c45-3b63-42ab-fca5-ee5cc4093e05"
      },
      "outputs": [
        {
          "output_type": "stream",
          "name": "stdout",
          "text": [
            "(100500, 50)\n",
            "10441\n"
          ]
        }
      ],
      "source": [
        "X, y = make_classification(n_samples=100500, n_features=50, n_informative=25, n_redundant=0, n_clusters_per_class=6, \n",
        "                           weights=(0.9,), random_state=42, hypercube=False, class_sep=0.85)\n",
        "print(X.shape)\n",
        "print(y.sum())"
      ]
    },
    {
      "cell_type": "code",
      "execution_count": 27,
      "metadata": {
        "id": "8tsS7R5RL0SG"
      },
      "outputs": [],
      "source": [
        "X_train, X_test, y_train, y_test = train_test_split(X, y, test_size=0.33, random_state=42, stratify=y)\n",
        "X_valid, X_test, y_valid, y_test = train_test_split(X_test, y_test, test_size=0.5, random_state=42, stratify=y_test)"
      ]
    },
    {
      "cell_type": "code",
      "execution_count": 28,
      "metadata": {
        "id": "84jDdus9MZz_"
      },
      "outputs": [],
      "source": [
        "train_pool = Pool(X_train, y_train)\n",
        "valid_pool = Pool(X_valid, y_valid)\n",
        "test_pool = Pool(X_test, y_test)"
      ]
    },
    {
      "cell_type": "code",
      "execution_count": 29,
      "metadata": {
        "colab": {
          "base_uri": "https://localhost:8080/"
        },
        "id": "pvaH4BSQNbdD",
        "outputId": "a364c33f-f8ea-4e12-a06a-e6722b473f7a"
      },
      "outputs": [
        {
          "output_type": "stream",
          "name": "stdout",
          "text": [
            "0:\tlearn: 0.5156342\ttest: 0.5004827\tbest: 0.5004827 (0)\ttotal: 44.9ms\tremaining: 44.9s\n",
            "100:\tlearn: 0.8456632\ttest: 0.8170010\tbest: 0.8170010 (100)\ttotal: 6.42s\tremaining: 57.2s\n",
            "200:\tlearn: 0.8915027\ttest: 0.8502630\tbest: 0.8502630 (200)\ttotal: 16.2s\tremaining: 1m 4s\n",
            "300:\tlearn: 0.9141009\ttest: 0.8648860\tbest: 0.8648860 (300)\ttotal: 22.5s\tremaining: 52.3s\n",
            "400:\tlearn: 0.9286158\ttest: 0.8737044\tbest: 0.8737229 (399)\ttotal: 26.3s\tremaining: 39.3s\n",
            "500:\tlearn: 0.9397748\ttest: 0.8800621\tbest: 0.8800621 (500)\ttotal: 30.1s\tremaining: 29.9s\n",
            "600:\tlearn: 0.9487900\ttest: 0.8843095\tbest: 0.8843292 (599)\ttotal: 33.7s\tremaining: 22.4s\n",
            "700:\tlearn: 0.9560821\ttest: 0.8868128\tbest: 0.8868339 (699)\ttotal: 37.5s\tremaining: 16s\n",
            "800:\tlearn: 0.9623105\ttest: 0.8897462\tbest: 0.8897462 (800)\ttotal: 41.2s\tremaining: 10.2s\n",
            "900:\tlearn: 0.9674414\ttest: 0.8910025\tbest: 0.8910662 (884)\ttotal: 44.9s\tremaining: 4.93s\n",
            "999:\tlearn: 0.9718666\ttest: 0.8918550\tbest: 0.8919352 (997)\ttotal: 48.5s\tremaining: 0us\n",
            "\n",
            "bestTest = 0.8919352457\n",
            "bestIteration = 997\n",
            "\n",
            "Shrink model to first 998 iterations.\n"
          ]
        },
        {
          "output_type": "execute_result",
          "data": {
            "text/plain": [
              "<catboost.core.CatBoostClassifier at 0x7f28c219b790>"
            ]
          },
          "metadata": {},
          "execution_count": 29
        }
      ],
      "source": [
        "param = {\n",
        "    'loss_function': 'Logloss',\n",
        "    'eval_metric': 'AUC:hints=skip_train~false',\n",
        "    'learning_rate': 0.1,\n",
        "    'depth': 5\n",
        "}\n",
        "\n",
        "model = CatBoostClassifier(**param )\n",
        "model.fit(train_pool, eval_set=valid_pool, verbose=100, early_stopping_rounds=500)"
      ]
    },
    {
      "cell_type": "code",
      "execution_count": 30,
      "metadata": {
        "id": "jzt1iTe9PDKV"
      },
      "outputs": [],
      "source": [
        "pred_prob = model.predict_proba(X_test)\n",
        "pred = model.predict(X_test)"
      ]
    },
    {
      "cell_type": "code",
      "execution_count": 31,
      "metadata": {
        "colab": {
          "base_uri": "https://localhost:8080/"
        },
        "id": "56H0Gqn-vjmG",
        "outputId": "6c58678e-e69f-441f-8b3e-8fa8b982fcf3"
      },
      "outputs": [
        {
          "output_type": "stream",
          "name": "stdout",
          "text": [
            "auc: 0.8875233266338016\n",
            "\n",
            "Precision: [0.91783542 0.85074627]\n",
            "Recall:    [0.99528937 0.23157284]\n",
            "F1:        [0.95499451 0.36405109]\n"
          ]
        }
      ],
      "source": [
        "auc = metrics.roc_auc_score(y_test, pred_prob[:, 1])\n",
        "precision_recall_fscore = metrics.precision_recall_fscore_support(y_test, pred)\n",
        "# auc - Area Under the Receiver Operating Characteristic Curve (ROC AUC) \n",
        "# from prediction scores.\n",
        "# Accuracy - (TP+TN)/(TP+TN+FP+FN) \n",
        "# Precision - TP/(TP+FP) - точность\n",
        "# Recall - TP/(TP+FN) - полнота\n",
        "# Specificity - TN/(FP+TN) \n",
        "# Fscore - f1 score, beta=1 (default)\n",
        "# support\n",
        "print('auc: ' + str(auc))\n",
        "print('')\n",
        "print('Precision: ' + str(precision_recall_fscore[0]))\n",
        "print('Recall:    ' + str(precision_recall_fscore[1]))\n",
        "print('F1:        ' + str(precision_recall_fscore[2]))\n"
      ]
    },
    {
      "cell_type": "code",
      "execution_count": 32,
      "metadata": {
        "colab": {
          "base_uri": "https://localhost:8080/"
        },
        "id": "bz70W3CXThHz",
        "outputId": "ff40b86a-5dd0-4998-8694-161ed0820a91"
      },
      "outputs": [
        {
          "output_type": "stream",
          "name": "stdout",
          "text": [
            "0.9952893674293405\n"
          ]
        }
      ],
      "source": [
        "tn, fp, fn, tp = confusion_matrix(y_test, pred).ravel()\n",
        "specificity = tn / (tn+fp)\n",
        "print(specificity)"
      ]
    },
    {
      "cell_type": "code",
      "execution_count": 33,
      "metadata": {
        "colab": {
          "base_uri": "https://localhost:8080/",
          "height": 297
        },
        "id": "kCa3MoE1SowC",
        "outputId": "590fd95c-e295-4bf1-c103-467f6f373478"
      },
      "outputs": [
        {
          "output_type": "execute_result",
          "data": {
            "text/plain": [
              "<sklearn.metrics._plot.roc_curve.RocCurveDisplay at 0x7f28c2d5d880>"
            ]
          },
          "metadata": {},
          "execution_count": 33
        },
        {
          "output_type": "display_data",
          "data": {
            "text/plain": [
              "<Figure size 432x288 with 1 Axes>"
            ],
            "image/png": "[encoded data removed]"
          },
          "metadata": {
            "needs_background": "light"
          }
        }
      ],
      "source": [
        "metrics.RocCurveDisplay.from_estimator(model, X_train, y_train, pos_label=0) # для True Positive 0"
      ]
    },
    {
      "cell_type": "code",
      "execution_count": 34,
      "metadata": {
        "colab": {
          "base_uri": "https://localhost:8080/",
          "height": 297
        },
        "id": "jCseWL0z5ZMb",
        "outputId": "b7a1ea7c-7a24-46c9-ec88-9161d7ca5dc9"
      },
      "outputs": [
        {
          "output_type": "execute_result",
          "data": {
            "text/plain": [
              "<sklearn.metrics._plot.roc_curve.RocCurveDisplay at 0x7f28c210f9d0>"
            ]
          },
          "metadata": {},
          "execution_count": 34
        },
        {
          "output_type": "display_data",
          "data": {
            "text/plain": [
              "<Figure size 432x288 with 1 Axes>"
            ],
            "image/png": "[encoded data removed]"
          },
          "metadata": {
            "needs_background": "light"
          }
        }
      ],
      "source": [
        "metrics.RocCurveDisplay.from_estimator(model, X_train, y_train)"
      ]
    },
    {
      "cell_type": "code",
      "execution_count": 35,
      "metadata": {
        "colab": {
          "base_uri": "https://localhost:8080/",
          "height": 297
        },
        "id": "AU_GT5lc5gam",
        "outputId": "0b989eb7-81f1-4b21-aef8-b7aaf700f314"
      },
      "outputs": [
        {
          "output_type": "execute_result",
          "data": {
            "text/plain": [
              "<sklearn.metrics._plot.roc_curve.RocCurveDisplay at 0x7f28c2174880>"
            ]
          },
          "metadata": {},
          "execution_count": 35
        },
        {
          "output_type": "display_data",
          "data": {
            "text/plain": [
              "<Figure size 432x288 with 1 Axes>"
            ],
            "image/png": "[encoded data removed]"
          },
          "metadata": {
            "needs_background": "light"
          }
        }
      ],
      "source": [
        "metrics.RocCurveDisplay.from_estimator(model, X_valid, y_valid)"
      ]
    },
    {
      "cell_type": "code",
      "execution_count": 36,
      "metadata": {
        "colab": {
          "base_uri": "https://localhost:8080/",
          "height": 297
        },
        "id": "KrbKevSu378U",
        "outputId": "816ae59a-5672-4ea3-d033-0d3e8f622603"
      },
      "outputs": [
        {
          "output_type": "execute_result",
          "data": {
            "text/plain": [
              "<sklearn.metrics._plot.roc_curve.RocCurveDisplay at 0x7f28c21668b0>"
            ]
          },
          "metadata": {},
          "execution_count": 36
        },
        {
          "output_type": "display_data",
          "data": {
            "text/plain": [
              "<Figure size 432x288 with 1 Axes>"
            ],
            "image/png": "[encoded data removed]"
          },
          "metadata": {
            "needs_background": "light"
          }
        }
      ],
      "source": [
        "metrics.RocCurveDisplay.from_estimator(model, X_test, y_test)"
      ]
    },
    {
      "cell_type": "markdown",
      "metadata": {
        "id": "iX93yQO0Ug-B"
      },
      "source": [
        "если положительный класс существенно меньше по размеру, то AUC-ROC может давать неадекватную оценку качества работы алгоритма, поскольку измеряет долю неверно принятых объектов относительно общего числа отрицательных."
      ]
    },
    {
      "cell_type": "code",
      "execution_count": 37,
      "metadata": {
        "colab": {
          "base_uri": "https://localhost:8080/",
          "height": 279
        },
        "id": "QgJ28HL94O6r",
        "outputId": "2041b77d-75e0-4707-c567-7c99dac10409"
      },
      "outputs": [
        {
          "output_type": "display_data",
          "data": {
            "text/plain": [
              "<Figure size 432x288 with 1 Axes>"
            ],
            "image/png": "[encoded data removed]"
          },
          "metadata": {
            "needs_background": "light"
          }
        }
      ],
      "source": [
        "precision, recall, _ = metrics.precision_recall_curve(y_test, pred)\n",
        "disp = metrics.PrecisionRecallDisplay(precision=precision, recall=recall)\n",
        "disp.plot()\n",
        "plt.show()"
      ]
    },
    {
      "cell_type": "code",
      "execution_count": 38,
      "metadata": {
        "colab": {
          "base_uri": "https://localhost:8080/"
        },
        "id": "sgm8S3KeU4of",
        "outputId": "89846708-138b-423f-e717-dc028b791802"
      },
      "outputs": [
        {
          "output_type": "execute_result",
          "data": {
            "text/plain": [
              "0.5810799537749809"
            ]
          },
          "metadata": {},
          "execution_count": 38
        }
      ],
      "source": [
        "area = metrics.auc(recall, precision)\n",
        "area"
      ]
    },
    {
      "cell_type": "code",
      "execution_count": 39,
      "metadata": {
        "colab": {
          "base_uri": "https://localhost:8080/"
        },
        "id": "AFVbwaYm4qnS",
        "outputId": "293b2cd8-606c-4bfa-b568-aae8792b9135"
      },
      "outputs": [
        {
          "output_type": "stream",
          "name": "stdout",
          "text": [
            "0:\tlearn: 0.5143561\ttest: 0.5045111\tbest: 0.5045111 (0)\ttotal: 30.8ms\tremaining: 30.8s\n",
            "100:\tlearn: 0.8135032\ttest: 0.7906961\tbest: 0.7906961 (100)\ttotal: 3.45s\tremaining: 30.7s\n",
            "200:\tlearn: 0.8627022\ttest: 0.8283549\tbest: 0.8283549 (200)\ttotal: 6.78s\tremaining: 26.9s\n",
            "300:\tlearn: 0.8859165\ttest: 0.8440827\tbest: 0.8440827 (300)\ttotal: 9.96s\tremaining: 23.1s\n",
            "400:\tlearn: 0.9014750\ttest: 0.8549824\tbest: 0.8549824 (400)\ttotal: 13.2s\tremaining: 19.7s\n",
            "500:\tlearn: 0.9135251\ttest: 0.8613847\tbest: 0.8614441 (499)\ttotal: 18s\tremaining: 17.9s\n",
            "600:\tlearn: 0.9230773\ttest: 0.8653693\tbest: 0.8653740 (598)\ttotal: 21.2s\tremaining: 14.1s\n",
            "700:\tlearn: 0.9306427\ttest: 0.8699087\tbest: 0.8699121 (699)\ttotal: 24.4s\tremaining: 10.4s\n",
            "800:\tlearn: 0.9375027\ttest: 0.8727506\tbest: 0.8727506 (800)\ttotal: 27.6s\tremaining: 6.87s\n",
            "900:\tlearn: 0.9429319\ttest: 0.8760362\tbest: 0.8760362 (900)\ttotal: 30.9s\tremaining: 3.39s\n",
            "999:\tlearn: 0.9480991\ttest: 0.8776587\tbest: 0.8776587 (999)\ttotal: 34s\tremaining: 0us\n",
            "\n",
            "bestTest = 0.8776587366\n",
            "bestIteration = 999\n",
            "\n"
          ]
        },
        {
          "output_type": "execute_result",
          "data": {
            "text/plain": [
              "<catboost.core.CatBoostClassifier at 0x7f28c1f7dd30>"
            ]
          },
          "metadata": {},
          "execution_count": 39
        }
      ],
      "source": [
        "param = {\n",
        "    'loss_function': 'Logloss',\n",
        "    'eval_metric': 'AUC:hints=skip_train~false',\n",
        "    'learning_rate': 0.1,\n",
        "    'depth': 4\n",
        "}\n",
        "\n",
        "model = CatBoostClassifier(**param )\n",
        "model.fit(train_pool, eval_set=valid_pool, verbose=100, early_stopping_rounds=500)"
      ]
    },
    {
      "cell_type": "code",
      "execution_count": 40,
      "metadata": {
        "colab": {
          "base_uri": "https://localhost:8080/"
        },
        "id": "yUCmJHMOHvxT",
        "outputId": "a4bc823e-d5b2-4a19-d6d4-d46078d7ba9d"
      },
      "outputs": [
        {
          "output_type": "stream",
          "name": "stdout",
          "text": [
            "0:\tlearn: 0.5143561\ttest: 0.5045111\tbest: 0.5045111 (0)\ttotal: 30.6ms\tremaining: 30.6s\n",
            "100:\tlearn: 0.8135032\ttest: 0.7906961\tbest: 0.7906961 (100)\ttotal: 3.39s\tremaining: 30.2s\n",
            "200:\tlearn: 0.8627022\ttest: 0.8283549\tbest: 0.8283549 (200)\ttotal: 6.61s\tremaining: 26.3s\n",
            "300:\tlearn: 0.8859165\ttest: 0.8440827\tbest: 0.8440827 (300)\ttotal: 9.8s\tremaining: 22.8s\n",
            "400:\tlearn: 0.9014750\ttest: 0.8549824\tbest: 0.8549824 (400)\ttotal: 13s\tremaining: 19.4s\n",
            "500:\tlearn: 0.9135251\ttest: 0.8613847\tbest: 0.8614441 (499)\ttotal: 16.2s\tremaining: 16.2s\n",
            "600:\tlearn: 0.9230773\ttest: 0.8653693\tbest: 0.8653740 (598)\ttotal: 19.4s\tremaining: 12.9s\n",
            "700:\tlearn: 0.9306427\ttest: 0.8699087\tbest: 0.8699121 (699)\ttotal: 22.6s\tremaining: 9.62s\n",
            "800:\tlearn: 0.9375027\ttest: 0.8727506\tbest: 0.8727506 (800)\ttotal: 25.7s\tremaining: 6.39s\n",
            "900:\tlearn: 0.9429319\ttest: 0.8760362\tbest: 0.8760362 (900)\ttotal: 28.9s\tremaining: 3.17s\n",
            "999:\tlearn: 0.9480991\ttest: 0.8776587\tbest: 0.8776587 (999)\ttotal: 32.4s\tremaining: 0us\n",
            "\n",
            "bestTest = 0.8776587366\n",
            "bestIteration = 999\n",
            "\n"
          ]
        },
        {
          "output_type": "execute_result",
          "data": {
            "text/plain": [
              "<catboost.core.CatBoostClassifier at 0x7f28c1f8c5e0>"
            ]
          },
          "metadata": {},
          "execution_count": 40
        }
      ],
      "source": [
        "param = {  # в бинарном случае одно и то\n",
        "    'loss_function': 'CrossEntropy',\n",
        "    'eval_metric': 'AUC:hints=skip_train~false',\n",
        "    'learning_rate': 0.1,\n",
        "    'depth': 4\n",
        "}\n",
        "\n",
        "model = CatBoostClassifier(**param )\n",
        "model.fit(train_pool, eval_set=valid_pool, verbose=100, early_stopping_rounds=500)"
      ]
    },
    {
      "cell_type": "code",
      "execution_count": 54,
      "metadata": {
        "colab": {
          "base_uri": "https://localhost:8080/"
        },
        "id": "CX-KFzhSIJEN",
        "outputId": "98ca6547-2b8a-449d-871c-9d68bab4ef62"
      },
      "outputs": [
        {
          "output_type": "stream",
          "name": "stdout",
          "text": [
            "0:\tlearn: 0.5143190\ttest: 0.5054043\tbest: 0.5054043 (0)\ttotal: 121ms\tremaining: 2m\n",
            "100:\tlearn: 0.8056047\ttest: 0.7857456\tbest: 0.7857456 (100)\ttotal: 5.9s\tremaining: 52.5s\n",
            "200:\tlearn: 0.8531368\ttest: 0.8235551\tbest: 0.8235551 (200)\ttotal: 11.1s\tremaining: 44.1s\n",
            "300:\tlearn: 0.8739417\ttest: 0.8367769\tbest: 0.8367769 (300)\ttotal: 16s\tremaining: 37.1s\n",
            "400:\tlearn: 0.8881804\ttest: 0.8478634\tbest: 0.8478634 (400)\ttotal: 20.8s\tremaining: 31.1s\n",
            "500:\tlearn: 0.8991881\ttest: 0.8548062\tbest: 0.8548797 (497)\ttotal: 25.8s\tremaining: 25.7s\n",
            "600:\tlearn: 0.9085151\ttest: 0.8609430\tbest: 0.8610996 (595)\ttotal: 30.7s\tremaining: 20.4s\n",
            "700:\tlearn: 0.9146278\ttest: 0.8638660\tbest: 0.8638660 (700)\ttotal: 35.6s\tremaining: 15.2s\n",
            "800:\tlearn: 0.9209281\ttest: 0.8668560\tbest: 0.8668560 (800)\ttotal: 40.5s\tremaining: 10.1s\n",
            "900:\tlearn: 0.9262446\ttest: 0.8705153\tbest: 0.8705485 (899)\ttotal: 45.5s\tremaining: 4.99s\n",
            "999:\tlearn: 0.9311528\ttest: 0.8730438\tbest: 0.8730611 (997)\ttotal: 53.1s\tremaining: 0us\n",
            "\n",
            "bestTest = 0.8730611372\n",
            "bestIteration = 997\n",
            "\n",
            "Shrink model to first 998 iterations.\n"
          ]
        },
        {
          "output_type": "execute_result",
          "data": {
            "text/plain": [
              "<catboost.core.CatBoostClassifier at 0x7f28c219e430>"
            ]
          },
          "metadata": {},
          "execution_count": 54
        }
      ],
      "source": [
        "param = {\n",
        "    'loss_function': 'MultiClass',\n",
        "    'eval_metric': 'AUC:hints=skip_train~false',\n",
        "    'learning_rate': 0.1,\n",
        "    'depth': 4\n",
        "}\n",
        "\n",
        "model = CatBoostClassifier(**param )\n",
        "model.fit(train_pool, eval_set=valid_pool, verbose=100, early_stopping_rounds=500)"
      ]
    },
    {
      "cell_type": "code",
      "execution_count": 55,
      "metadata": {
        "id": "Dz_n356TH1oA"
      },
      "outputs": [],
      "source": [
        "from sklearn.ensemble import AdaBoostClassifier\n",
        "from sklearn.tree import DecisionTreeClassifier\n",
        "from xgboost import XGBClassifier"
      ]
    },
    {
      "cell_type": "code",
      "source": [
        "model3 = XGBClassifier(max_depth=4, objective='binary:logistic')\n",
        "model3.fit(X_train, y_train)"
      ],
      "metadata": {
        "colab": {
          "base_uri": "https://localhost:8080/"
        },
        "id": "wgfJ8uNcfPLY",
        "outputId": "d0f5b77b-9fc8-409b-fe2e-53fb9c920d37"
      },
      "execution_count": 56,
      "outputs": [
        {
          "output_type": "execute_result",
          "data": {
            "text/plain": [
              "XGBClassifier(max_depth=4)"
            ]
          },
          "metadata": {},
          "execution_count": 56
        }
      ]
    },
    {
      "cell_type": "code",
      "source": [
        "model2 = AdaBoostClassifier(DecisionTreeClassifier(max_depth=3), n_estimators=20, learning_rate=0.1)\n"
      ],
      "metadata": {
        "id": "FreVPJ47gA6l"
      },
      "execution_count": 57,
      "outputs": []
    },
    {
      "cell_type": "code",
      "execution_count": 58,
      "metadata": {
        "colab": {
          "base_uri": "https://localhost:8080/"
        },
        "id": "Jf3pjPw4Mx0m",
        "outputId": "c8a8f75c-9001-4076-b4de-87490d0294ca"
      },
      "outputs": [
        {
          "output_type": "execute_result",
          "data": {
            "text/plain": [
              "AdaBoostClassifier(base_estimator=DecisionTreeClassifier(max_depth=3),\n",
              "                   learning_rate=0.1, n_estimators=20)"
            ]
          },
          "metadata": {},
          "execution_count": 58
        }
      ],
      "source": [
        "model2.fit(X_train, y_train)"
      ]
    },
    {
      "cell_type": "code",
      "execution_count": 59,
      "metadata": {
        "id": "6tfdm1IEZIjb"
      },
      "outputs": [],
      "source": [
        "pred_prob2 = model2.predict_proba(X_test)\n",
        "auc2 = metrics.roc_auc_score(y_test, pred_prob2[:, 1])\n",
        "pred_prob3 = model3.predict_proba(X_test)\n",
        "auc3 = metrics.roc_auc_score(y_test, pred_prob3[:, 1])"
      ]
    },
    {
      "cell_type": "code",
      "execution_count": 60,
      "metadata": {
        "id": "eWCisj1dKNXe",
        "colab": {
          "base_uri": "https://localhost:8080/"
        },
        "outputId": "34de3d4d-5e06-40ec-984a-fa7b7f797671"
      },
      "outputs": [
        {
          "output_type": "stream",
          "name": "stdout",
          "text": [
            "0.8875233266338016 CatBoost\n",
            "0.6611728815042155 AdaBoost\n",
            "0.7704222579634725 XGBoost\n"
          ]
        }
      ],
      "source": [
        "print(auc, 'CatBoost')\n",
        "print(auc2, 'AdaBoost')\n",
        "print(auc3, 'XGBoost')"
      ]
    },
    {
      "cell_type": "code",
      "execution_count": 60,
      "metadata": {
        "id": "RbfaW-gFKqOD"
      },
      "outputs": [],
      "source": []
    }
  ],
  "metadata": {
    "colab": {
      "provenance": []
    },
    "kernelspec": {
      "display_name": "Python 3",
      "name": "python3"
    },
    "language_info": {
      "name": "python"
    }
  },
  "nbformat": 4,
  "nbformat_minor": 0
}